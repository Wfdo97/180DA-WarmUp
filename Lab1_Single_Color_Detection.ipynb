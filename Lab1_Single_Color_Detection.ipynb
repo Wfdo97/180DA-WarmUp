{
 "cells": [
  {
   "cell_type": "code",
   "execution_count": 1,
   "id": "8d5de4b9-a44b-4908-a8ad-a6ab39095700",
   "metadata": {},
   "outputs": [],
   "source": [
    "def rgb_or_hsv():\n",
    "    user_input=input(\"Enter 'R' to use RGB or 'H' to use HSV: \")\n",
    "\n",
    "    if user_input.upper() == 'H':\n",
    "        return 0\n",
    "    elif user_input.upper() == 'R':\n",
    "        return 1\n",
    "    \n",
    "    return -1\n",
    "\n",
    "def get_color_values(user_input):\n",
    "                    # Lower     # Upper\n",
    "    color_values = [[[240,95,90],[246,244,253]],       # HSV\n",
    "                   [[6,6,214], [120,120,255]]]   # RGB\n",
    "    return color_values[user_input]\n",
    "\n",
    "def get_color_scale(user_input):\n",
    "    color_scale = [cv2.COLOR_BGR2HSV, cv2.COLOR_BGR2RGB]\n",
    "    return color_scale[user_input]\n",
    "\n",
    "def resize(frame):\n",
    "    return cv2.resize(frame, (800, 600))"
   ]
  },
  {
   "cell_type": "code",
   "execution_count": 2,
   "id": "0ccea1c8",
   "metadata": {},
   "outputs": [
    {
     "name": "stdin",
     "output_type": "stream",
     "text": [
      "Enter 'R' to use RGB or 'H' to use HSV:  R\n"
     ]
    },
    {
     "ename": "KeyboardInterrupt",
     "evalue": "",
     "output_type": "error",
     "traceback": [
      "\u001b[1;31m---------------------------------------------------------------------------\u001b[0m",
      "\u001b[1;31mKeyboardInterrupt\u001b[0m                         Traceback (most recent call last)",
      "Cell \u001b[1;32mIn[2], line 11\u001b[0m\n\u001b[0;32m      7\u001b[0m webcam \u001b[38;5;241m=\u001b[39m cv2\u001b[38;5;241m.\u001b[39mVideoCapture(\u001b[38;5;241m0\u001b[39m, cv2\u001b[38;5;241m.\u001b[39mCAP_DSHOW)\n\u001b[0;32m      9\u001b[0m \u001b[38;5;28;01mwhile\u001b[39;00m \u001b[38;5;28;01mTrue\u001b[39;00m: \n\u001b[0;32m     10\u001b[0m     \u001b[38;5;66;03m# Reading the video from the webcam in image frames \u001b[39;00m\n\u001b[1;32m---> 11\u001b[0m     _, imageFrame \u001b[38;5;241m=\u001b[39m \u001b[43mwebcam\u001b[49m\u001b[38;5;241;43m.\u001b[39;49m\u001b[43mread\u001b[49m\u001b[43m(\u001b[49m\u001b[43m)\u001b[49m \n\u001b[0;32m     13\u001b[0m     \u001b[38;5;66;03m# Convert the imageFrame in BGR to HSV color space\u001b[39;00m\n\u001b[0;32m     14\u001b[0m     hsvFrame \u001b[38;5;241m=\u001b[39m cv2\u001b[38;5;241m.\u001b[39mcvtColor(imageFrame, color_scale)\n",
      "\u001b[1;31mKeyboardInterrupt\u001b[0m: "
     ]
    }
   ],
   "source": [
    "import cv2\n",
    "import numpy as np\n",
    "\n",
    "user_input = rgb_or_hsv()\n",
    "color_values = get_color_values(user_input)\n",
    "color_scale = get_color_scale(user_input)\n",
    "webcam = cv2.VideoCapture(0, cv2.CAP_DSHOW)\n",
    "\n",
    "while True: \n",
    "    # Reading the video from the webcam in image frames \n",
    "    _, imageFrame = webcam.read() \n",
    "\n",
    "    # Convert the imageFrame in BGR to HSV color space\n",
    "    hsvFrame = cv2.cvtColor(imageFrame, color_scale)\n",
    "  \n",
    "    # Set range for blue color and define mask\n",
    "    blue_lower = np.array(color_values[0])\n",
    "    blue_upper = np.array(color_values[1])\n",
    "    blue_mask = cv2.inRange(hsvFrame, blue_lower, blue_upper) \n",
    "\n",
    "    # Morphological Transform, Dilation for blue color \n",
    "    kernel = np.ones((5, 5), \"uint8\")\n",
    "    blue_mask = cv2.dilate(blue_mask, kernel) \n",
    "    res_blue = cv2.bitwise_and(imageFrame, imageFrame, mask=blue_mask)   \n",
    "\n",
    "    # Creating contour to track blue color \n",
    "    contours, hierarchy = cv2.findContours(blue_mask, cv2.RETR_TREE, cv2.CHAIN_APPROX_SIMPLE) \n",
    "    for contour in contours: \n",
    "        area = cv2.contourArea(contour) \n",
    "        if area > 300: \n",
    "            x, y, w, h = cv2.boundingRect(contour) \n",
    "            imageFrame = cv2.rectangle(imageFrame, (x, y), (x + w, y + h), (255, 0, 0), 2)\n",
    "\n",
    "    # Display the frame with detected blue color\n",
    "    cv2.imshow(\"Multiple Color Detection in Real-Time\", imageFrame)\n",
    "    cv2.imshow('Isolating Objects with Specified Color',resize(res_blue))\n",
    "\n",
    "    # Program Termination \n",
    "    if cv2.waitKey(10) & 0xFF == ord('q'): \n",
    "        webcam.release() \n",
    "        cv2.destroyAllWindows() \n",
    "        break\n"
   ]
  },
  {
   "cell_type": "code",
   "execution_count": 2,
   "id": "16043d84",
   "metadata": {},
   "outputs": [],
   "source": [
    "# import cv2\n",
    "# import numpy as np\n",
    "\n",
    "# webcam = cv2.VideoCapture(0, cv2.CAP_DSHOW)\n",
    "\n",
    "# while True: \n",
    "#     # Reading the video from the webcam in image frames \n",
    "#     _, imageFrame = webcam.read() \n",
    "\n",
    "#     # Set range for blue color and define mask in RGB space\n",
    "#     blue_lower = np.array([50, 0, 0], np.uint8)\n",
    "#     blue_upper = np.array([255, 50, 50], np.uint8)\n",
    "#     blue_mask = cv2.inRange(imageFrame, blue_lower, blue_upper) \n",
    "\n",
    "#     # Morphological Transform, Dilation for blue color \n",
    "#     kernel = np.ones((5, 5), \"uint8\")\n",
    "#     blue_mask = cv2.dilate(blue_mask, kernel) \n",
    "#     res_blue = cv2.bitwise_and(imageFrame, imageFrame, mask=blue_mask)   \n",
    "\n",
    "#     # Creating contour to track blue color \n",
    "#     contours, hierarchy = cv2.findContours(blue_mask, cv2.RETR_TREE, cv2.CHAIN_APPROX_SIMPLE) \n",
    "#     for contour in contours: \n",
    "#         area = cv2.contourArea(contour) \n",
    "#         if area > 300: \n",
    "#             x, y, w, h = cv2.boundingRect(contour) \n",
    "#             imageFrame = cv2.rectangle(imageFrame, (x, y), (x + w, y + h), (0, 255, 0), 2)\n",
    "\n",
    "#     # Display the frame with detected blue color\n",
    "#     cv2.imshow(\"Blue Color Detection in Real-Time using RGB\", imageFrame) \n",
    "\n",
    "#     # Program Termination \n",
    "#     if cv2.waitKey(10) & 0xFF == ord('q'): \n",
    "#         webcam.release() \n",
    "#         cv2.destroyAllWindows() \n",
    "#         break\n"
   ]
  },
  {
   "cell_type": "code",
   "execution_count": null,
   "id": "3b38fb22",
   "metadata": {},
   "outputs": [],
   "source": []
  }
 ],
 "metadata": {
  "kernelspec": {
   "display_name": "tfod",
   "language": "python",
   "name": "tfod"
  },
  "language_info": {
   "codemirror_mode": {
    "name": "ipython",
    "version": 3
   },
   "file_extension": ".py",
   "mimetype": "text/x-python",
   "name": "python",
   "nbconvert_exporter": "python",
   "pygments_lexer": "ipython3",
   "version": "3.9.6"
  }
 },
 "nbformat": 4,
 "nbformat_minor": 5
}
